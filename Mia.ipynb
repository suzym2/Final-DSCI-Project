{
 "cells": [
  {
   "cell_type": "markdown",
   "id": "b6b10bf9-0d0f-47fa-9ba9-58a99c719e72",
   "metadata": {},
   "source": [
    "# Analysis of the Characteristics of PaliCraft Server that are Linked to High Playtimes"
   ]
  },
  {
   "cell_type": "markdown",
   "id": "ea5a6cf0-abc9-42dd-bc21-bcff49612d8e",
   "metadata": {},
   "source": [
    "## Introduction"
   ]
  },
  {
   "cell_type": "markdown",
   "id": "40ed93c6-3719-4473-8222-5c561df0d55a",
   "metadata": {},
   "source": [
    "Plaicraft is an online Minecraft server managed by a UBC Computer Science research team. Before playing, users share a small amount of personal information. The server tracks each player's playtime and stores it in a file called players.csv, along with details like gender, age, gaming experience, and email list participation. This project focuses on answering the research question \"What 'kinds' of players are most likely to contribute a large amount of data to the dataset?\". In our analysis, the player's age and gender will be the explanatory variable and the player's total playing time will be the response variable. This information helps the team target and recruit players who are more likely to contribute large amounts of data, allowing them to maximize data collection efficiently. Their findings also assist in tailoring advertisements to attract high-contributing player demographics."
   ]
  },
  {
   "cell_type": "markdown",
   "id": "ce7121b5-2480-484d-98cd-0558548c0399",
   "metadata": {},
   "source": [
    "## The Data"
   ]
  },
  {
   "cell_type": "markdown",
   "id": "48d7ee78-54e1-440b-94cc-e2be71d849ff",
   "metadata": {},
   "source": [
    "The `players.csv` dataset lists data about each individual player and includes 196 observations under 7 variables. "
   ]
  },
  {
   "cell_type": "markdown",
   "id": "22d5ba77-15b8-4245-ac8d-a14b5d598f27",
   "metadata": {},
   "source": [
    "* **experience** - The level of experience players reported having when signing up: Beginner, Amateur, Regular, Veteran, Pro\n",
    "* **subscribe** - Whether players subscribed to receive email updates about the server\n",
    "* **hashedEmail** - Each players hashed email address\n",
    "* **played_hours** - The total number of hours each player played\n",
    "*  **name** - The name each player chose\n",
    "*  **gender** - The self stated gender of the player: Male, Female, Agender, Non-Binary, Two Spirited, Other, Prefer not to say\n",
    "*  **age** - The self stated age of the player in years"
   ]
  },
  {
   "cell_type": "markdown",
   "id": "875a9567-28c0-4dc3-a997-d55711bc6d62",
   "metadata": {},
   "source": [
    "These variables were manipulated throughout the following analysis to answer the research question."
   ]
  }
 ],
 "metadata": {
  "kernelspec": {
   "display_name": "R",
   "language": "R",
   "name": "ir"
  },
  "language_info": {
   "codemirror_mode": "r",
   "file_extension": ".r",
   "mimetype": "text/x-r-source",
   "name": "R",
   "pygments_lexer": "r",
   "version": "4.3.3"
  }
 },
 "nbformat": 4,
 "nbformat_minor": 5
}
