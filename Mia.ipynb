Introduction 

Question: Can a player's age and/ or total playing time predict their subscription status to the newspaper in the players dataset?
* player's age and total playing time will be the explanatory variable
* subscription status will be the response variable

#### Dataset 1: players

The `players.csv` file lists data about each individual player, and includes 196 observations and 8 variables. 

| Variable Name | Data Type | Description of Variable |
| ------------- | ----------| ------------------------|
| experience    | character | player's skill level
| subscribe     | logical   | player's subscription status to a game-related newsletter
| hashedEmail   | character | player's hashed email
| played_hours  | double    | player's total playing time, in hours
| name          | character | player's name
| gender        | character | player's gender
| Age           | double    | player's age


