{
 "cells": [
  {
   "cell_type": "markdown",
   "id": "c48bc91e-9b0c-45e5-abf3-f0a70195ccb0",
   "metadata": {},
   "source": [
    "Hey Guys! It's Suzy!!! I set this up for us so we can get working together :)"
   ]
  },
  {
   "cell_type": "code",
   "execution_count": null,
   "id": "84da3b4e-f3ee-47e6-acef-c70d31409111",
   "metadata": {},
   "outputs": [],
   "source": []
  }
 ],
 "metadata": {
  "kernelspec": {
   "display_name": "R",
   "language": "R",
   "name": "ir"
  },
  "language_info": {
   "codemirror_mode": "r",
   "file_extension": ".r",
   "mimetype": "text/x-r-source",
   "name": "R",
   "pygments_lexer": "r",
   "version": "4.3.3"
  }
 },
 "nbformat": 4,
 "nbformat_minor": 5
}
