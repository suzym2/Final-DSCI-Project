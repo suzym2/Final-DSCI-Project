{
 "cells": [
  {
   "cell_type": "markdown",
   "id": "38e7acff-d807-4a43-ae68-b7c44b77bfd2",
   "metadata": {},
   "source": [
    "# Discussion"
   ]
  },
  {
   "cell_type": "markdown",
   "id": "f3642cd9-b583-40b6-adbf-e4028d78fa19",
   "metadata": {},
   "source": [
    "Our analysis aimed to address the question: \"Which 'kinds' of players are most likely to contribute a large amount of data?\" To explore this, we formulate the specific question: \"Can a player's age and gender be used to predict the amount of time they spend playing Minecraft?\" From looking at the scatterplot graphs that we created, we gained insight into how a player's age and gender relate to their playtime. \n",
    "\n",
    "The first graph (Figure ?) plotted the average hours played against the age of players. This visualization showed us that there is a negative correlation as the average hours played decreased when age increased. We can also see that most of the higher values for hours played are concentrated among younger players (15-25 year olds). This aligns with what we expected to find as it's common to see that younger individuals tend to spend more time gaming. \n",
    "\n",
    "The second scatterplot (Figure ?) plotted the average hours played against the gender of players. We can see that male players appeared to dominate the higher end of hours played spectrum, female players showed moderate engagement with the game, and players who are non-binary or \"prefer not to say\" seemed to have lower played hours. These results mostly aligns with our expectations as research shows that male players engage more frequently and for longer durations in games (Leonhardt & Overå. We discovered that a player's age and gender can be used to predict the amount of time they spend playing Minecraft.\n",
    "\n",
    "Our findings could have an important impact for researchers and game developers in their recruitment efforts. It provides them with insights when trying to identify players that will be most likely to contribute a large amount of data. Knowing that players "
   ]
  },
  {
   "cell_type": "markdown",
   "id": "4fe82162-4a17-4526-a60a-0f25f8cd8642",
   "metadata": {},
   "source": [
    "# References"
   ]
  },
  {
   "cell_type": "markdown",
   "id": "e8347916-d35b-47f7-ae4d-d8422dbb40ef",
   "metadata": {},
   "source": [
    "Leonhardt, M., & Overå, S. (2021). Are There Differences in Video Gaming and Use of Social Media among Boys and Girls?-A Mixed Methods Approach. *International journal of environmental research and public health, 18*(11), 6085. https://doi.org/10.3390/ijerph18116085"
   ]
  },
  {
   "cell_type": "code",
   "execution_count": null,
   "id": "3024c10f-4649-4079-b900-95ce2bc3e8bf",
   "metadata": {},
   "outputs": [],
   "source": []
  }
 ],
 "metadata": {
  "kernelspec": {
   "display_name": "R",
   "language": "R",
   "name": "ir"
  },
  "language_info": {
   "codemirror_mode": "r",
   "file_extension": ".r",
   "mimetype": "text/x-r-source",
   "name": "R",
   "pygments_lexer": "r",
   "version": "4.3.3"
  }
 },
 "nbformat": 4,
 "nbformat_minor": 5
}
