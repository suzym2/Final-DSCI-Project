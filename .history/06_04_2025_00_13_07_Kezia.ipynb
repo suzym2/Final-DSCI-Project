{
 "cells": [
  {
   "cell_type": "markdown",
   "id": "c107d6ca-6681-4e01-aa27-bf467d0245c0",
   "metadata": {},
   "source": [
    "# Result"
   ]
  },
  {
   "cell_type": "code",
   "execution_count": null,
   "id": "158981a2-8fcf-4f38-8d55-07a540390bf2",
   "metadata": {},
   "outputs": [],
   "source": [
    "library(tidyverse)\n",
    "library(repr)\n",
    "library(tidymodels)\n",
    "library(GGally)\n",
    "library(ISLR)\n",
    "options(repr.matrix.max.rows = 6)\n",
    "source(\"cleanup.R\")"
   ]
  },
  {
   "cell_type": "code",
   "execution_count": null,
   "id": "530fbf99-fc0f-4140-944d-8ad011d37ae0",
   "metadata": {},
   "outputs": [],
   "source": [
    "URL <- \"https://drive.google.com/uc?export=download&id=1w_vUI6QgOW2d9bF07o1XM4MAaSF3dpea\"\n",
    "player_data <- read_csv(URL)\n",
    "player_data"
   ]
  },
  {
   "cell_type": "code",
   "execution_count": null,
   "id": "d92f1871-dbed-478c-b852-2a16c75e505b",
   "metadata": {},
   "outputs": [],
   "source": [
    "player_data_filtered <- player_data |> \n",
    "                        select(experience, subscribe, played_hours, gender, Age) |>\n",
    "                        filter(played_hours != 0.0) |>\n",
    "                        drop_na(Age) |>\n",
    "                        mutate (gender = as_factor (gender)) |>\n",
    "                        mutate (experience = as_factor (experience)) |>\n",
    "                        filter (gender != \"Agender\" )\n",
    "\n",
    "player_data_filtered"
   ]
  },
  {
   "cell_type": "code",
   "execution_count": null,
   "id": "be098135-e3e6-4657-8e12-afa5efa75889",
   "metadata": {},
   "outputs": [],
   "source": [
    "players_split <- initial_split (player_data_filtered, prop=0.75, strata=played_hours)\n",
    "training_players <- training(players_split)\n",
    "testing_players <- testing (players_split)\n",
    "training_players\n",
    "testing_players"
   ]
  },
  {
   "cell_type": "markdown",
   "id": "3ee0e386-7533-49be-a66e-58392ba5cf6c",
   "metadata": {},
   "source": [
    "The code above splits the dataset into training and testing sets. 75% of the datasets will go to the training set, and 25% to the testing test. (strata = played_hours) ensures the distribution of played_hours is similar in both the training and testing sets."
   ]
  },
  {
   "cell_type": "code",
   "execution_count": null,
   "id": "f28712f1-ea3f-40ca-944d-2f36b21f0366",
   "metadata": {},
   "outputs": [],
   "source": [
    "players_spec <- linear_reg()|>\n",
    "            set_engine (\"lm\") |>\n",
    "            set_mode (\"regression\")\n",
    "\n",
    "players_recipe <- recipe (played_hours~Age, data = training_players)\n",
    "\n",
    "players_fit <- workflow()|>\n",
    "            add_recipe (players_recipe)|>\n",
    "            add_model (players_spec) |>\n",
    "            fit (data = training_players)\n",
    "players_fit"
   ]
  },
  {
   "cell_type": "markdown",
   "id": "c1a036cc-8055-4699-86e5-4b6d5d3e2463",
   "metadata": {},
   "source": [
    "This code builds a linear regression model to predict how many hours someone plays based on their age."
   ]
  },
  {
   "cell_type": "code",
   "execution_count": null,
   "id": "f18090b7-2f7a-4d7f-bb70-67d70683a06f",
   "metadata": {},
   "outputs": [],
   "source": [
    "players_test_result <- players_fit |>\n",
    "                    predict (testing_players) |>\n",
    "                    bind_cols (testing_players) |>\n",
    "                    metrics (truth = played_hours, estimate=.pred)\n",
    "\n",
    "players_test_result"
   ]
  },
  {
   "cell_type": "code",
   "execution_count": null,
   "id": "47db6290-2123-4813-90ae-2be72a8cf461",
   "metadata": {},
   "outputs": [],
   "source": [
    "players_age_min <- player_data_filtered |>\n",
    "                    select (Age) |>\n",
    "                    min()\n",
    "players_age_max <-  player_data_filtered |>\n",
    "                    select (Age) |>\n",
    "                    max()\n",
    "players_hrs_prediction <- tibble (Age = c(players_age_min, players_age_max))\n",
    "\n",
    "players_hrs_prediction"
   ]
  },
  {
   "cell_type": "markdown",
   "id": "a3399465-aa7d-400e-86ac-070c06ded91a",
   "metadata": {},
   "source": [
    "The code below filtered and creates a tibble of the maximum and minimum age from our dataset."
   ]
  },
  {
   "cell_type": "code",
   "execution_count": null,
   "id": "d93eeef4-8560-4f9f-a5c6-95a98045005e",
   "metadata": {},
   "outputs": [],
   "source": [
    "age_plot <- ggplot(player_data_filtered, aes(x = Age, y = played_hours)) +\n",
    "            geom_point(alpha = 0.4) +\n",
    "            geom_line(data = players_preds,\n",
    "                      mapping = aes(x = Age, y = .pred), \n",
    "                      color = \"blue\") +\n",
    "            xlab(\"Age (in Years)\") +\n",
    "            ylab(\"Hours Played (in hours)\") +\n",
    "            ggtitle (\"The Linear Regression of Played Hours and Age\") +\n",
    "            theme(text = element_text(size = 20))\n",
    "age_plot"
   ]
  },
  {
   "cell_type": "markdown",
   "id": "c6eb91fd-2a2b-4773-abe0-93daccb202ce",
   "metadata": {},
   "source": [
    "### Gender"
   ]
  },
  {
   "cell_type": "code",
   "execution_count": null,
   "id": "45649130-fb2f-4844-8f24-fd56747378f1",
   "metadata": {},
   "outputs": [],
   "source": []
  },
  {
   "cell_type": "code",
   "execution_count": null,
   "id": "1b3cc477-dd72-4818-ba71-abda5739f747",
   "metadata": {},
   "outputs": [],
   "source": []
  },
  {
   "cell_type": "code",
   "execution_count": null,
   "id": "10419327-163e-4fea-8298-a47f1df8353c",
   "metadata": {},
   "outputs": [],
   "source": [
    "players_split <- initial_split (player_data_filtered, prop=0.75, strata=played_hours)\n",
    "training_players <- training(players_split)\n",
    "testing_players <- testing (players_split)\n",
    "training_players\n",
    "testing_players"
   ]
  },
  {
   "cell_type": "code",
   "execution_count": null,
   "id": "d3475da9-6c42-4ca8-a67b-936e9c50baf9",
   "metadata": {},
   "outputs": [],
   "source": [
    "players_spec <- linear_reg()|>\n",
    "            set_engine (\"lm\") |>\n",
    "            set_mode (\"regression\")\n",
    "\n",
    "players_recipe <- recipe (played_hours~gender, data = training_players)\n",
    "\n",
    "players_fit <- workflow()|>\n",
    "            add_recipe (players_recipe)|>\n",
    "            add_model (players_spec) |>\n",
    "            fit (data = training_players)\n",
    "players_fit"
   ]
  },
  {
   "cell_type": "code",
   "execution_count": null,
   "id": "deaac335-3a17-42eb-97cd-50643fdf76d7",
   "metadata": {},
   "outputs": [],
   "source": []
  },
  {
   "cell_type": "code",
   "execution_count": null,
   "id": "7d972e0c-9843-449e-a26f-8b3a45cd6195",
   "metadata": {},
   "outputs": [],
   "source": [
    "players_test_result <- players_fit |>\n",
    "                    predict (testing_players) |>\n",
    "                    bind_cols (testing_players) \n",
    "players_test_result"
   ]
  },
  {
   "cell_type": "code",
   "execution_count": null,
   "id": "b396bb0c-b8a9-4156-8731-f8bc18ff2e08",
   "metadata": {},
   "outputs": [],
   "source": [
    "gender_plot <- ggplot(players_test_result, aes(x = gender, y = played_hours)) +\n",
    "            geom_point(alpha = 0.4) +\n",
    "            geom_line(aes (y = .pred), \n",
    "                      color = \"blue\") +\n",
    "            xlab(\"gender\") +\n",
    "            ylab(\"Hours Played (in hours)\") +\n",
    "            ggtitle (\"The Linear Regression of Played Hours and gender\") +\n",
    "            theme(text = element_text(size = 20))\n",
    "gender_plot"
   ]
  },
  {
   "cell_type": "code",
   "execution_count": null,
   "id": "743352ab-5af0-4f62-acf0-446f30ec6edf",
   "metadata": {},
   "outputs": [],
   "source": []
  }
 ],
 "metadata": {
  "kernelspec": {
   "display_name": "R",
   "language": "R",
   "name": "ir"
  },
  "language_info": {
   "codemirror_mode": "r",
   "file_extension": ".r",
   "mimetype": "text/x-r-source",
   "name": "R",
   "pygments_lexer": "r",
   "version": "4.3.3"
  }
 },
 "nbformat": 4,
 "nbformat_minor": 5
}
