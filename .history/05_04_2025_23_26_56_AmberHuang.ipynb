{
 "cells": [
  {
   "cell_type": "markdown",
   "id": "38e7acff-d807-4a43-ae68-b7c44b77bfd2",
   "metadata": {},
   "source": [
    "# Discussion"
   ]
  },
  {
   "cell_type": "markdown",
   "id": "f3642cd9-b583-40b6-adbf-e4028d78fa19",
   "metadata": {},
   "source": [
    "Our analysis aimed to address the question: \"Which 'kinds' of players are most likely to contribute a large amount of data?\" To explore this, we formulate the specific question: \"Can a player's age and gender be used to predict the amount of time they spend playing Minecraft?\" From looking at the prediction graphs we created, we gained insight into how a player's age and gender relate to their playtime. \n",
    "\n",
    "The first graph (Figure ?) plotted the average hours played against the age of players. This visualization showed us that there is a negative correlation as the average hours played decreased when age increased. We can also see that most of the higher values for hours played are concentrated among younger players (those in their This contradicts what we expected to find as we expected players who were \"Pros\" and \"Veterans\" to spend the most time playing since experience usually correlates with engagement with the game. However, this finding indicates that \"Regular\" players may tend to spend the most time playing Minecraft because they are at a stage where they are highly motivated to explore and invest time in the game while more experienced players have plateaued in their interest or play in a more targeted, efficient manner.\n",
    "\n",
    "The second graph (Figure 2) plotted the average hours played against the age of players. We can see that \n",
    "\n",
    "The findings mostly aligned with our expectations. We discovered that a player's age and gender can be used to predict the amount of time they spend playing Minecraft.\n",
    "\n",
    "Our findings could have an important impact for researchers and game developers in their recruitment efforts. It provides them with insights when trying to identify players that will be most likely to contribute a large amount of data. Knowing that players with \"Regular\" and \"Amateur\" experience levels contribute significantly to "
   ]
  },
  {
   "cell_type": "code",
   "execution_count": null,
   "id": "f17ec7ce-34d5-4129-b30c-7552402b5166",
   "metadata": {},
   "outputs": [],
   "source": []
  }
 ],
 "metadata": {
  "kernelspec": {
   "display_name": "R",
   "language": "R",
   "name": "ir"
  },
  "language_info": {
   "codemirror_mode": "r",
   "file_extension": ".r",
   "mimetype": "text/x-r-source",
   "name": "R",
   "pygments_lexer": "r",
   "version": "4.3.3"
  }
 },
 "nbformat": 4,
 "nbformat_minor": 5
}
