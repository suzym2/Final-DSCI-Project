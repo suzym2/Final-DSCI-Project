{
 "cells": [
  {
   "cell_type": "markdown",
   "id": "38e7acff-d807-4a43-ae68-b7c44b77bfd2",
   "metadata": {},
   "source": [
    "# Discussion"
   ]
  },
  {
   "cell_type": "markdown",
   "id": "f3642cd9-b583-40b6-adbf-e4028d78fa19",
   "metadata": {},
   "source": [
    "Our analysis aimed to address the question: \"Which 'kinds' of players are most likely to contribute a large amount of data?\" To explore this, we formulate the specific question: \"Can a player's age and gender be used to predict the amount of time they spend playing Minecraft?\" From looking at the 4 bar plots we created, we gained insight into how a player's age and gender relate to their playtime. \n",
    "\n",
    "The first graph (Figure 1) plotted the average hours played against the experience level of players. This visualization showed us that players with \"Regular\" experience levels had the most playing time, followed by players with \"Amateur\" experience level. This contradicts what we expected to find as we expected players who were \"Pros\" and \"Veterans\" to spend the most time playing since experience usually correlates with engagement with the game. However, this finding indicates that \"Regular\" players may tend to spend the most time playing Minecraft because they are at a stage where they are highly motivated to explore and invest time in the game while more experienced players have plateaued in their interest or play in a more targeted, efficient manner,\n",
    "\n",
    "The findings mostly aligned with our expectations. \n",
    "\n",
    "Our findings could have an important impact for researchers and game developers in their recruitment efforts. It provides them with insights when trying to"
   ]
  },
  {
   "cell_type": "code",
   "execution_count": null,
   "id": "f17ec7ce-34d5-4129-b30c-7552402b5166",
   "metadata": {},
   "outputs": [],
   "source": []
  }
 ],
 "metadata": {
  "kernelspec": {
   "display_name": "R",
   "language": "R",
   "name": "ir"
  },
  "language_info": {
   "codemirror_mode": "r",
   "file_extension": ".r",
   "mimetype": "text/x-r-source",
   "name": "R",
   "pygments_lexer": "r",
   "version": "4.3.3"
  }
 },
 "nbformat": 4,
 "nbformat_minor": 5
}
