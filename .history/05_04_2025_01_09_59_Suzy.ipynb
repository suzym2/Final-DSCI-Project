{
 "cells": [
  {
   "cell_type": "markdown",
   "id": "ad6c5267-65cf-401c-ab36-a14375dfb769",
   "metadata": {},
   "source": [
    "# Methods for Analysis"
   ]
  },
  {
   "cell_type": "markdown",
   "id": "ea467d5a-0212-4513-817d-08647cbf6360",
   "metadata": {},
   "source": [
    "Before we can conduct any analysis on the loaded datasets, all of the necessary packages must be loaded in. "
   ]
  },
  {
   "cell_type": "code",
   "execution_count": null,
   "id": "c6ff484d-eaa8-4a5a-95e4-3cdd153ab13e",
   "metadata": {},
   "outputs": [],
   "source": [
    "library(tidyverse)\n",
    "library(repr)\n",
    "library(tidymodels)\n",
    "library(GGally)\n",
    "library(ISLR)\n",
    "options(repr.matrix.max.rows = 6)\n",
    "source(\"cleanup.R\")"
   ]
  },
  {
   "cell_type": "markdown",
   "id": "d98bfa94-376d-40a1-b0e8-10c1f2c35c52",
   "metadata": {},
   "source": [
    "The dataset, players.csv is loaded directly from the web to ensure that our methods and findings are reproducable. The dataset is saved as \"players\"."
   ]
  },
  {
   "cell_type": "code",
   "execution_count": null,
   "id": "ed14cdb7-a170-4b3f-89d5-a717c2b70471",
   "metadata": {},
   "outputs": [],
   "source": [
    "URL <- \"https://drive.google.com/uc?export=download&id=1w_vUI6QgOW2d9bF07o1XM4MAaSF3dpea\"\n",
    "player_data <- read_csv(URL)\n",
    "player_data"
   ]
  },
  {
   "cell_type": "markdown",
   "id": "30bf907b-bce8-49eb-8b36-a589eecab691",
   "metadata": {},
   "source": [
    "This dataset includes information for seven variables, as seen above, relating to 196 players. While this data is tidy, there are irrelevant variables present which are not conducive to answering the research question. To conduct an accurate and easily comprehensible anaylsys, the columns for name and hashedEmail will be excluded using the slice function, since they do not provide insight into the \"kind\" of players present in the server.  "
   ]
  },
  {
   "cell_type": "code",
   "execution_count": null,
   "id": "7c44bc04-8ecb-498f-b5fe-510844540fb0",
   "metadata": {},
   "outputs": [],
   "source": [
    "player_data_filtered <- player_data |> select(experience, subscribe, played_hours, gender, Age)\n",
    "player_data_filtered"
   ]
  },
  {
   "cell_type": "markdown",
   "id": "b4757128-2391-4b54-a9d7-bdaae994711a",
   "metadata": {},
   "source": [
    "Now the dataset has been refined to include only the data relevant to answering the question, \"Which types of players are most likely to contribute a large amount of data?\". We can now conduct analysis which will focus on identifying these \"kinds\" of players. This can be effectively done by determining how different variables influence the played_hours variable, since players with the highest playtime will generate the most data and should therefore be prioritized for recruiting efforts.\n",
    "\n",
    "However, prior to doing this we acknowledge a key issue arises within the dataset regarding players misreporting their age on the server. For instance, the 1st data point records an age of 9years. Provided that this server is open only to the people in our class, this is clearly an unrepresentative data point. Including such data would lead to misleading conclusions about the relationship between age group and playtime. To mitigate this, only data for players aged 15-30 will be considered when analyzing the relationship between age and playtime.\n",
    "\n",
    "Playtime will also be examined in relation to experience, gender, and subscription status. Bar graphs will be used to explore these relationships in this stage to determine the relevant pieces of data prior to the group project.\n",
    "\n",
    "The first graph we looked at plotted experience vs mean hours played. Using the ggplot2 package, we grouped the data by experience and calculated the mean of hours played. We then used geom_bar with stat = \"identity\" to generate a bar plot, placing experience level on the X-axis and average hours played on the Y-axis."
   ]
  },
  {
   "cell_type": "code",
   "execution_count": null,
   "id": "f147beae-9ec2-44fc-99af-3bf39c9e2997",
   "metadata": {},
   "outputs": [],
   "source": []
  }
 ],
 "metadata": {
  "kernelspec": {
   "display_name": "R",
   "language": "R",
   "name": "ir"
  },
  "language_info": {
   "codemirror_mode": "r",
   "file_extension": ".r",
   "mimetype": "text/x-r-source",
   "name": "R",
   "pygments_lexer": "r",
   "version": "4.3.3"
  }
 },
 "nbformat": 4,
 "nbformat_minor": 5
}
