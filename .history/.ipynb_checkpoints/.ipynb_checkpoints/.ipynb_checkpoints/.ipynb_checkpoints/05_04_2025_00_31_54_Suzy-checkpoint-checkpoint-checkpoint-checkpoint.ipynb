{
 "cells": [
  {
   "cell_type": "markdown",
   "id": "ad6c5267-65cf-401c-ab36-a14375dfb769",
   "metadata": {},
   "source": [
    "**Methods for Ana"
   ]
  },
  {
   "cell_type": "code",
   "execution_count": null,
   "id": "40c7a455-f2e1-4b20-a4ab-2f5d15093ddc",
   "metadata": {},
   "outputs": [],
   "source": []
  }
 ],
 "metadata": {
  "kernelspec": {
   "display_name": "R",
   "language": "R",
   "name": "ir"
  },
  "language_info": {
   "codemirror_mode": "r",
   "file_extension": ".r",
   "mimetype": "text/x-r-source",
   "name": "R",
   "pygments_lexer": "r",
   "version": "4.3.3"
  }
 },
 "nbformat": 4,
 "nbformat_minor": 5
}
