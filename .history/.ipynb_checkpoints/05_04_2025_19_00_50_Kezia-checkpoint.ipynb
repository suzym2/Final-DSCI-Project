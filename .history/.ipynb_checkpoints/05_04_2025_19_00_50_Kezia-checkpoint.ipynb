{
 "cells": [
  {
   "cell_type": "markdown",
   "id": "c107d6ca-6681-4e01-aa27-bf467d0245c0",
   "metadata": {},
   "source": [
    "# Result"
   ]
  },
  {
   "cell_type": "code",
   "execution_count": null,
   "id": "158981a2-8fcf-4f38-8d55-07a540390bf2",
   "metadata": {},
   "outputs": [],
   "source": [
    "library(tidyverse)\n",
    "library(repr)\n",
    "library(tidymodels)\n",
    "library(GGally)\n",
    "library(ISLR)\n",
    "options(repr.matrix.max.rows = 6)\n",
    "source(\"cleanup.R\")"
   ]
  },
  {
   "cell_type": "code",
   "execution_count": null,
   "id": "530fbf99-fc0f-4140-944d-8ad011d37ae0",
   "metadata": {},
   "outputs": [],
   "source": [
    "URL <- \"https://drive.google.com/uc?export=download&id=1w_vUI6QgOW2d9bF07o1XM4MAaSF3dpea\"\n",
    "player_data <- read_csv(URL)\n",
    "player_data"
   ]
  },
  {
   "cell_type": "code",
   "execution_count": null,
   "id": "d92f1871-dbed-478c-b852-2a16c75e505b",
   "metadata": {},
   "outputs": [],
   "source": [
    "player_data_filtered <- player_data |> select(experience, subscribe, played_hours, gender, Age)\n",
    "player_data_filtered"
   ]
  },
  {
   "cell_type": "code",
   "execution_count": null,
   "id": "be098135-e3e6-4657-8e12-afa5efa75889",
   "metadata": {},
   "outputs": [],
   "source": [
    "players_split <- initial_split (player_data_filtered, prop=0.75, strata=played_hours)\n",
    "training_players <- training(players_split)\n",
    "testing_players <- testing (players_split)\n",
    "training_players\n",
    "testing_players"
   ]
  },
  {
   "cell_type": "code",
   "execution_count": null,
   "id": "f28712f1-ea3f-40ca-944d-2f36b21f0366",
   "metadata": {},
   "outputs": [],
   "source": [
    "pl_spec <- linear_reg()|>\n",
    "set_engine (\"lm\") |>\n",
    "set_mode (\"regression\")\n",
    "\n",
    "pl_recipe <- recipe (played_hours~)"
   ]
  }
 ],
 "metadata": {
  "kernelspec": {
   "display_name": "R",
   "language": "R",
   "name": "ir"
  },
  "language_info": {
   "codemirror_mode": "r",
   "file_extension": ".r",
   "mimetype": "text/x-r-source",
   "name": "R",
   "pygments_lexer": "r",
   "version": "4.3.3"
  }
 },
 "nbformat": 4,
 "nbformat_minor": 5
}
