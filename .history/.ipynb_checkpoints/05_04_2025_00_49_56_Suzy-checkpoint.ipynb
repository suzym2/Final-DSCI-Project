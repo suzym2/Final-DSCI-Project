{
 "cells": [
  {
   "cell_type": "markdown",
   "id": "ad6c5267-65cf-401c-ab36-a14375dfb769",
   "metadata": {},
   "source": [
    "# Methods for Analysis"
   ]
  },
  {
   "cell_type": "markdown",
   "id": "ea467d5a-0212-4513-817d-08647cbf6360",
   "metadata": {},
   "source": [
    "Before we can conduct any analysis on the loaded datasets, all of the necessary packages must be loaded in. "
   ]
  },
  {
   "cell_type": "code",
   "execution_count": null,
   "id": "c6ff484d-eaa8-4a5a-95e4-3cdd153ab13e",
   "metadata": {},
   "outputs": [],
   "source": [
    "library(tidyverse)\n",
    "library(repr)\n",
    "library(tidymodels)\n",
    "library(GGally)\n",
    "library(ISLR)\n",
    "options(repr.matrix.max.rows = 6)\n",
    "source(\"cleanup.R\")"
   ]
  },
  {
   "cell_type": "markdown",
   "id": "d98bfa94-376d-40a1-b0e8-10c1f2c35c52",
   "metadata": {},
   "source": [
    "The dataset, players.csv is loaded directly from the web to ensure that our methods and findings are reproducable. The dataset is saved as \"players\"."
   ]
  },
  {
   "cell_type": "code",
   "execution_count": null,
   "id": "ed14cdb7-a170-4b3f-89d5-a717c2b70471",
   "metadata": {},
   "outputs": [],
   "source": [
    "URL <- \"https://drive.google.com/uc?export=download&id=1w_vUI6QgOW2d9bF07o1XM4MAaSF3dpea\"\n",
    "player_data <- read_csv(URL)\n",
    "player_data"
   ]
  },
  {
   "cell_type": "code",
   "execution_count": null,
   "id": "ac66fc95-5da0-46ae-a961-137543877af6",
   "metadata": {},
   "outputs": [],
   "source": [
    "This dataset includes information for seven variables, as seen above, relating to 196 players."
   ]
  }
 ],
 "metadata": {
  "kernelspec": {
   "display_name": "R",
   "language": "R",
   "name": "ir"
  },
  "language_info": {
   "codemirror_mode": "r",
   "file_extension": ".r",
   "mimetype": "text/x-r-source",
   "name": "R",
   "pygments_lexer": "r",
   "version": "4.3.3"
  }
 },
 "nbformat": 4,
 "nbformat_minor": 5
}
