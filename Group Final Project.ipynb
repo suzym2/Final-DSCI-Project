{
 "cells": [
  {
   "cell_type": "markdown",
   "id": "c48bc91e-9b0c-45e5-abf3-f0a70195ccb0",
   "metadata": {},
   "source": [
    "Hey Guys! It's Suzy!!! I set this up for us so we can get working together :) "
   ]
  }
 ],
 "metadata": {
  "kernelspec": {
   "display_name": "R",
   "language": "R",
   "name": "ir"
  },
  "language_info": {
   "codemirror_mode": "r",
   "file_extension": ".r",
   "mimetype": "text/x-r-source",
   "name": "R",
   "pygments_lexer": "r",
   "version": "4.3.3"
  }
 },
 "nbformat": 4,
 "nbformat_minor": 5
}
